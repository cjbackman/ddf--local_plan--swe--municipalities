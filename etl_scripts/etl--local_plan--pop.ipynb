{
 "cells": [
  {
   "cell_type": "code",
   "execution_count": 7,
   "metadata": {
    "collapsed": false
   },
   "outputs": [],
   "source": [
    "import pandas as pd\n",
    "import numpy as np\n",
    "import os\n",
    "from ddf_utils.str import to_concept_id\n",
    "from ddf_utils.index import create_index_file"
   ]
  },
  {
   "cell_type": "code",
   "execution_count": 8,
   "metadata": {
    "collapsed": true
   },
   "outputs": [],
   "source": [
    "# Filenames etc\n",
    "out_dir = unicode(\"../output\")\n",
    "src = unicode(\"../src\")\n",
    "pathsep = os.path.sep\n",
    "\n",
    "# Raw data\n",
    "pop_file = os.path.join(src, \"BE0101N1.xlsx\") # Population"
   ]
  },
  {
   "cell_type": "markdown",
   "metadata": {},
   "source": [
    "### Extract entities - municipalities"
   ]
  },
  {
   "cell_type": "code",
   "execution_count": 9,
   "metadata": {
    "collapsed": true
   },
   "outputs": [],
   "source": [
    "def extract_entities_municipalities(data):\n",
    "    muni = data[[\"Unnamed: 0\", \"Unnamed: 1\"]].copy() # Copy entity columns\n",
    "    muni.rename(columns = {\"Unnamed: 0\": \"municipality\", \"Unnamed: 1\": \"name\"}, inplace=True) # Rename columns\n",
    "    muni = muni.dropna() # Drop NaN rows\n",
    "    muni[\"municipality\"] = muni[\"municipality\"].map(to_concept_id) # Make id string alphanumeric\n",
    "    muni[\"county\"] = muni[\"municipality\"].map(lambda x: x[:2]) # Add county\n",
    "    muni[\"is--municipality\"] = \"True\"\n",
    "    \n",
    "    return muni"
   ]
  },
  {
   "cell_type": "markdown",
   "metadata": {},
   "source": [
    "### Extract concepts"
   ]
  },
  {
   "cell_type": "code",
   "execution_count": 10,
   "metadata": {
    "collapsed": true
   },
   "outputs": [],
   "source": [
    "def extract_concepts(out_dir):\n",
    "    concept_file = os.path.join(out_dir, \"ddf--concepts.csv\")\n",
    "    \n",
    "    concepts = [\"Name\",\"Population\", \"Year\", \"Municipality\", \"County\"]\n",
    "    df_con = pd.DataFrame([], columns = [\"concept\", \"name\", \"concept_type\"])\n",
    "\n",
    "    df_con[\"name\"] = concepts\n",
    "    df_con[\"concept\"] = df_con[\"name\"].map(to_concept_id)\n",
    "\n",
    "    df_con[\"concept_type\"] = \"measure\"\n",
    "    df_con[\"concept_type\"].iloc[0] = \"string\"\n",
    "    df_con[\"concept_type\"].iloc[2] = \"time\"\n",
    "    df_con[\"concept_type\"].iloc[3] = \"entity_domain\"\n",
    "    df_con[\"concept_type\"].iloc[4] = \"entity_domain\"\n",
    "    \n",
    "    # If not exist, create new\n",
    "    # Else, add to existing file\n",
    "    if os.path.isfile(concept_file):\n",
    "        print concept_file + \" exists. Adding new entries.\"\n",
    "        data = pd.read_csv(concept_file, encoding=\"utf-8\")\n",
    "        df_con = pd.concat([data, df_con])\n",
    "        df_con = df_con.drop_duplicates(subset=[\"concept\"])\n",
    "        \n",
    "    return df_con"
   ]
  },
  {
   "cell_type": "markdown",
   "metadata": {},
   "source": [
    "### Extract datapoints"
   ]
  },
  {
   "cell_type": "code",
   "execution_count": 11,
   "metadata": {
    "collapsed": true
   },
   "outputs": [],
   "source": [
    "def extract_datapoints(data):\n",
    "    measure = \"population\"\n",
    "    \n",
    "    # Extract entities\n",
    "    entities = extract_entities_municipalities(data)\n",
    "    \n",
    "    # Extract measures\n",
    "    pop = data[data.columns[2:]].copy()\n",
    "\n",
    "    datapoints = pd.DataFrame([], columns=[\"municipality\", \"name\", \"year\", measure])\n",
    "    for year in pop.columns:\n",
    "        tmp = entities[[\"municipality\",\"name\"]].copy()\n",
    "        tmp[\"year\"] = str(year)\n",
    "        tmp[measure] = pop[year]\n",
    "        tmp[measure]\n",
    "        datapoints = pd.concat([datapoints,tmp])\n",
    "        \n",
    "    datapoints[\"municipality\"] = datapoints[\"municipality\"].map(to_concept_id)\n",
    "    \n",
    "    return datapoints.sort_values(by=[\"municipality\",\"year\"])"
   ]
  },
  {
   "cell_type": "markdown",
   "metadata": {},
   "source": [
    "### Main script"
   ]
  },
  {
   "cell_type": "code",
   "execution_count": 12,
   "metadata": {
    "collapsed": false
   },
   "outputs": [
    {
     "name": "stdout",
     "output_type": "stream",
     "text": [
      "Printing ../output/ddf--entities--municipality.csv\n",
      "../output/ddf--concepts.csv exists. Adding new entries.\n",
      "Printing ../output/ddf--concepts.csv\n",
      "Printing ../output/ddf--datapoints--population--by--municipality--year.csv\n"
     ]
    }
   ],
   "source": [
    "if __name__ == \"__main__\":\n",
    "    \n",
    "    data = pd.read_excel(pop_file, skiprows=[0,1], parse_cols=\"A:AX\", skip_footer=50, \\\n",
    "                         converters={'Unnamed: 0': lambda x: str(x)})\n",
    "    \n",
    "    # Extract entities\n",
    "    muni = extract_entities_municipalities(data)\n",
    "    path = os.path.join(out_dir, \"ddf--entities--municipality.csv\")\n",
    "    print \"Printing \" + path\n",
    "    muni.to_csv(path, index=False, encoding=\"utf-8\")\n",
    "\n",
    "    # Extract concepts\n",
    "    concepts = extract_concepts(out_dir)\n",
    "    path = os.path.join(out_dir, \"ddf--concepts.csv\")\n",
    "    print \"Printing \" + path\n",
    "    concepts.to_csv(path, index=False, encoding=\"utf-8\")\n",
    "            \n",
    "    # Extract datapoints\n",
    "    datapoints = extract_datapoints(data)\n",
    "    path = os.path.join(out_dir, \"ddf--datapoints--population--by--municipality--year.csv\")\n",
    "    print \"Printing \" + path\n",
    "    datapoints.to_csv(path, index=False, encoding=\"utf-8\")\n",
    "\n",
    "    del data, muni, concepts, datapoints"
   ]
  },
  {
   "cell_type": "code",
   "execution_count": null,
   "metadata": {
    "collapsed": true
   },
   "outputs": [],
   "source": []
  }
 ],
 "metadata": {
  "kernelspec": {
   "display_name": "Python 2",
   "language": "python",
   "name": "python2"
  },
  "language_info": {
   "codemirror_mode": {
    "name": "ipython",
    "version": 2
   },
   "file_extension": ".py",
   "mimetype": "text/x-python",
   "name": "python",
   "nbconvert_exporter": "python",
   "pygments_lexer": "ipython2",
   "version": "2.7.11"
  }
 },
 "nbformat": 4,
 "nbformat_minor": 0
}
