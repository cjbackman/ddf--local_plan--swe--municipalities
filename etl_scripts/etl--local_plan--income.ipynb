{
 "cells": [
  {
   "cell_type": "code",
   "execution_count": 2,
   "metadata": {
    "collapsed": false
   },
   "outputs": [
    {
     "name": "stderr",
     "output_type": "stream",
     "text": [
      "//anaconda/lib/python2.7/site-packages/pandas/computation/__init__.py:19: UserWarning: The installed version of numexpr 2.4.4 is not supported in pandas and will be not be used\n",
      "\n",
      "  UserWarning)\n"
     ]
    }
   ],
   "source": [
    "import pandas as pd\n",
    "import numpy as np\n",
    "import os\n",
    "from ddf_utils.str import to_concept_id\n",
    "from ddf_utils.index import create_index_file"
   ]
  },
  {
   "cell_type": "code",
   "execution_count": 8,
   "metadata": {
    "collapsed": true
   },
   "outputs": [],
   "source": [
    "# Directories\n",
    "out_dir = unicode(\"../output\")\n",
    "src = unicode(\"../src\")\n",
    "\n",
    "# Raw data\n",
    "middle_income_file = os.path.join(src, \"HE0110J7.xlsx\") # Middle income\n",
    "median_income_file = os.path.join(src, \"HE0110J8.xlsx\") # Median income"
   ]
  },
  {
   "cell_type": "markdown",
   "metadata": {},
   "source": [
    "### Extract entities - municipalities"
   ]
  },
  {
   "cell_type": "code",
   "execution_count": 4,
   "metadata": {
    "collapsed": false
   },
   "outputs": [],
   "source": [
    "def extract_entities_municipalities(data):\n",
    "    muni = data[[\"Unnamed: 0\", \"Unnamed: 1\"]].copy() # Copy entity columns\n",
    "    muni.rename(columns = {\"Unnamed: 0\": \"municipality\", \"Unnamed: 1\": \"name\"}, inplace=True) # Rename columns\n",
    "    muni = muni.dropna() # Drop NaN rows\n",
    "    muni[\"municipality\"] = muni[\"municipality\"].map(to_concept_id) # Make id string alphanumeric\n",
    "    muni[\"county\"] = muni[\"municipality\"].map(lambda x: x[:2]) # Add county\n",
    "    muni[\"is--municipality\"] = \"True\"\n",
    "    \n",
    "    return muni"
   ]
  },
  {
   "cell_type": "markdown",
   "metadata": {},
   "source": [
    "### Extract concepts"
   ]
  },
  {
   "cell_type": "code",
   "execution_count": 5,
   "metadata": {
    "collapsed": true
   },
   "outputs": [],
   "source": [
    "def extract_concepts(out_dir):\n",
    "    concept_file = os.path.join(out_dir, \"ddf--concepts.csv\")\n",
    "    \n",
    "    concepts = [\"Name\", \"Middle income\", \"Median income\", \"Year\", \"Municipality\", \"County\"]\n",
    "    df_con = pd.DataFrame([], columns = [\"concept\", \"name\", \"concept_type\"])\n",
    "\n",
    "    df_con[\"name\"] = concepts\n",
    "    df_con[\"concept\"] = df_con[\"name\"].map(to_concept_id)\n",
    "\n",
    "    df_con[\"concept_type\"] = \"measure\"\n",
    "    df_con[\"concept_type\"].iloc[0] = \"string\"\n",
    "    df_con[\"concept_type\"].iloc[3] = \"time\"\n",
    "    df_con[\"concept_type\"].iloc[4] = \"entity_domain\"\n",
    "    df_con[\"concept_type\"].iloc[5] = \"entity_domain\"\n",
    "    \n",
    "    # If not exist, create new\n",
    "    # Else, add to existing file\n",
    "    if os.path.isfile(concept_file):\n",
    "        print concept_file + \" exists. Adding new entries.\"\n",
    "        data = pd.read_csv(concept_file, encoding=\"utf-8\")\n",
    "        df_con = pd.concat([data, df_con])\n",
    "        df_con = df_con.drop_duplicates(subset=[\"concept\"])\n",
    "        \n",
    "    return df_con"
   ]
  },
  {
   "cell_type": "markdown",
   "metadata": {},
   "source": [
    "### Extract datapoints"
   ]
  },
  {
   "cell_type": "code",
   "execution_count": 6,
   "metadata": {
    "collapsed": false
   },
   "outputs": [],
   "source": [
    "def extract_datapoints(data, measure):\n",
    "    dps = data.copy()\n",
    "    dps.rename(columns = {\"Unnamed: 0\": \"municipality\", \"Unnamed: 1\": \"name\"}, inplace=True)\n",
    "\n",
    "    income = dps[dps.columns[2:]]\n",
    "    entities = dps[[\"municipality\", \"name\"]]\n",
    "    \n",
    "    datapoints = pd.DataFrame([], columns=[\"municipality\", \"name\", \"year\", measure])\n",
    "    for year in income.columns:\n",
    "        tmp = entities.copy()\n",
    "        tmp[\"year\"] = year\n",
    "        tmp[measure] = income[year]*1000\n",
    "        datapoints = pd.concat([datapoints,tmp])\n",
    "        \n",
    "    datapoints[\"municipality\"] = datapoints[\"municipality\"].map(to_concept_id)\n",
    "    \n",
    "    return datapoints.sort_values(by=[\"municipality\",\"year\"])"
   ]
  },
  {
   "cell_type": "markdown",
   "metadata": {},
   "source": [
    "### Main script"
   ]
  },
  {
   "cell_type": "code",
   "execution_count": 9,
   "metadata": {
    "collapsed": false
   },
   "outputs": [
    {
     "name": "stdout",
     "output_type": "stream",
     "text": [
      "Reading ../src/HE0110J7.xlsx\n",
      "Printing ../output/ddf--entities--municipality.csv\n",
      "../output/ddf--concepts.csv exists. Adding new entries.\n",
      "Printing ../output/ddf--concepts.csv\n",
      "Printing ../output/ddf--datapoints--middle_income--by--municipality--year.csv\n",
      "Reading ../src/HE0110J8.xlsx\n",
      "Printing ../output/ddf--datapoints--median_income--by--municipality--year.csv\n"
     ]
    }
   ],
   "source": [
    "if __name__ == \"__main__\":\n",
    "    \n",
    "    # Load raw data\n",
    "    files = [middle_income_file, median_income_file]\n",
    "    measure = [\"middle_income\", \"median_income\"]\n",
    "    first = True\n",
    "    \n",
    "    for i, infile in enumerate(files):\n",
    "        print \"Reading \" + infile\n",
    "        data = pd.read_excel(infile, skiprows=[0,1], parse_cols=\"A,B,G:V\", skip_footer=41, \\\n",
    "                                 converters={'Unnamed: 0': lambda x: str(x)})\n",
    "        \n",
    "        data.replace(\"..\",0,inplace=True)\n",
    "    \n",
    "        if (first):\n",
    "            # Extract entities (counties)\n",
    "            muni = extract_entities_municipalities(data)\n",
    "            path = os.path.join(out_dir, \"ddf--entities--municipality.csv\")\n",
    "            print \"Printing \" + path\n",
    "            muni.to_csv(path, index=False, encoding=\"utf-8\")\n",
    "\n",
    "            # Extract concepts\n",
    "            concepts = extract_concepts(out_dir)\n",
    "            path = os.path.join(out_dir, \"ddf--concepts.csv\")\n",
    "            print \"Printing \" + path\n",
    "            concepts.to_csv(path, index=False, encoding=\"utf-8\")\n",
    "\n",
    "            first = False\n",
    "    \n",
    "        # Extract datapoints\n",
    "        datapoints = extract_datapoints(data, measure[i])\n",
    "        path = os.path.join(out_dir, \"ddf--datapoints--{}--by--municipality--year.csv\".format(measure[i]))\n",
    "        print \"Printing \" + path\n",
    "        datapoints.to_csv(path, index=False, encoding=\"utf-8\")\n",
    "    \n",
    "    del muni, concepts, data, datapoints    "
   ]
  },
  {
   "cell_type": "code",
   "execution_count": null,
   "metadata": {
    "collapsed": true
   },
   "outputs": [],
   "source": []
  }
 ],
 "metadata": {
  "kernelspec": {
   "display_name": "Python 2",
   "language": "python",
   "name": "python2"
  },
  "language_info": {
   "codemirror_mode": {
    "name": "ipython",
    "version": 2
   },
   "file_extension": ".py",
   "mimetype": "text/x-python",
   "name": "python",
   "nbconvert_exporter": "python",
   "pygments_lexer": "ipython2",
   "version": "2.7.11"
  }
 },
 "nbformat": 4,
 "nbformat_minor": 0
}
